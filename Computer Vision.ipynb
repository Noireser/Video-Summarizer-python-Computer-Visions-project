{
 "cells": [
  {
   "cell_type": "code",
   "execution_count": 5,
   "id": "b88ab408",
   "metadata": {},
   "outputs": [
    {
     "name": "stdout",
     "output_type": "stream",
     "text": [
      "Extracted 307 frames.\n",
      "Extracted features for 307 frames.\n",
      "Clustering labels: [2 2 2 2 2 2 2 2 2 2 2 2 2 2 2 2 2 2 2 2 2 2 2 2 2 2 2 2 2 2 2 2 2 2 2 2 2\n",
      " 2 2 2 2 2 2 2 2 2 2 2 2 2 2 2 2 2 2 2 0 0 0 0 0 0 0 0 0 0 0 0 0 0 0 0 0 0\n",
      " 0 0 0 0 0 0 0 0 0 0 0 0 0 0 0 0 0 0 0 0 0 0 0 0 0 0 0 0 0 0 0 0 0 0 4 4 4\n",
      " 4 4 4 4 4 4 4 4 4 4 4 4 4 4 4 4 4 4 4 4 4 3 3 3 3 3 3 3 3 3 3 3 3 3 3 3 3\n",
      " 3 3 3 3 1 1 1 1 1 1 1 1 1 1 1 1 1 1 1 1 1 1 1 1 1 1 1 1 1 1 1 1 1 1 1 1 1\n",
      " 1 1 1 1 1 1 1 1 1 1 1 1 1 1 1 1 1 1 1 1 1 1 1 1 1 1 1 1 1 1 1 1 1 1 1 1 1\n",
      " 1 1 1 1 1 1 1 1 1 1 1 4 4 4 4 4 4 4 4 4 4 4 4 4 4 4 4 4 4 4 4 4 4 4 4 4 4\n",
      " 4 4 4 4 4 4 4 4 4 4 4 4 4 4 4 4 4 4 4 4 4 4 4 4 4 4 4 4 4 4 4 4 4 4 4 4 4\n",
      " 4 4 4 4 4 4 4 4 4 4 4]\n",
      "Selected 5 key frames.\n",
      "Moviepy - Building video summary_video.mp4.\n",
      "Moviepy - Writing video summary_video.mp4\n",
      "\n"
     ]
    },
    {
     "name": "stderr",
     "output_type": "stream",
     "text": [
      "                                                               \r"
     ]
    },
    {
     "name": "stdout",
     "output_type": "stream",
     "text": [
      "Moviepy - Done !\n",
      "Moviepy - video ready summary_video.mp4\n"
     ]
    },
    {
     "data": {
      "text/html": [
       "<video src=\"summary_video.mp4\" controls  >\n",
       "      Your browser does not support the <code>video</code> element.\n",
       "    </video>"
      ],
      "text/plain": [
       "<IPython.core.display.Video object>"
      ]
     },
     "execution_count": 5,
     "metadata": {},
     "output_type": "execute_result"
    }
   ],
   "source": [
    "import cv2\n",
    "import numpy as np\n",
    "import moviepy.editor as mp\n",
    "from sklearn.cluster import KMeans\n",
    "import matplotlib.pyplot as plt\n",
    "\n",
    "# Function to extract frames from the video with frame downsampling\n",
    "def extract_frames(video_clip, frame_rate, sample_rate=1):\n",
    "    frames = []\n",
    "    for i, frame in enumerate(video_clip.iter_frames(fps=frame_rate, dtype=\"uint8\")):\n",
    "        if i % sample_rate == 0:  # Only take every `sample_rate`-th frame\n",
    "            frames.append(frame)\n",
    "    return frames\n",
    "\n",
    "# Function to extract features from each frame (using color histograms)\n",
    "def extract_frame_features(frames):\n",
    "    features = []\n",
    "    for frame in frames:\n",
    "        # Convert frame to grayscale for simplicity\n",
    "        gray = cv2.cvtColor(frame, cv2.COLOR_RGB2GRAY)\n",
    "        # Compute the histogram of the frame\n",
    "        hist = cv2.calcHist([gray], [0], None, [256], [0, 256])\n",
    "        hist = hist.flatten()  # Flatten the histogram into a 1D array\n",
    "        features.append(hist)\n",
    "    return np.array(features)\n",
    "\n",
    "# Function to select key frames (one per cluster)\n",
    "def select_key_frames(frames, labels, num_clusters):\n",
    "    key_frames = []\n",
    "    for i in range(num_clusters):\n",
    "        # Get all frames that belong to the current cluster\n",
    "        cluster_frames = [frames[j] for j in range(len(frames)) if labels[j] == i]\n",
    "        # Select the first frame of the cluster (this can be optimized further)\n",
    "        key_frames.append(cluster_frames[0])\n",
    "    return key_frames\n",
    "\n",
    "# Load video file using MoviePy\n",
    "video_path = \"C:/Users/91982/Desktop/sample1.mp4\"  # Updated with your video path\n",
    "video_clip = mp.VideoFileClip(video_path)\n",
    "\n",
    "# Get video details\n",
    "frame_rate = video_clip.fps  # Frame rate of the video\n",
    "video_duration = video_clip.duration  # Duration of the video in seconds\n",
    "\n",
    "# Check if the video is too short (less than 20 seconds)\n",
    "if video_duration < 20:\n",
    "    # For very short videos, just keep the original video as the summary\n",
    "    summary_video = video_clip.subclip(0, video_duration)\n",
    "    print(\"Video is too short. Returning the original video as the summary.\")\n",
    "else:\n",
    "    # Reduce frame size (e.g., every 5th frame) to save memory\n",
    "    sample_rate = 5  # Only take every 5th frame\n",
    "    frames = extract_frames(video_clip, frame_rate, sample_rate)\n",
    "    print(f\"Extracted {len(frames)} frames.\")\n",
    "\n",
    "    # Extract features from frames (using histograms)\n",
    "    frame_features = extract_frame_features(frames)\n",
    "    print(f\"Extracted features for {len(frames)} frames.\")\n",
    "\n",
    "    # Apply KMeans clustering to detect scenes\n",
    "    num_clusters = 5  # Number of key moments/scenes\n",
    "    kmeans = KMeans(n_clusters=num_clusters, random_state=42)\n",
    "    labels = kmeans.fit_predict(frame_features)\n",
    "\n",
    "    # Print the clustering labels for each frame\n",
    "    print(f\"Clustering labels: {labels}\")\n",
    "\n",
    "    # Select key frames from each cluster\n",
    "    key_frames = select_key_frames(frames, labels, num_clusters)\n",
    "    print(f\"Selected {len(key_frames)} key frames.\")\n",
    "\n",
    "    # Convert key frames to moviepy clips\n",
    "    key_frame_clips = [mp.ImageClip(frame).set_duration(2).set_fps(frame_rate) for frame in key_frames]\n",
    "\n",
    "    # Concatenate clips into a single summary video\n",
    "    summary_video = mp.concatenate_videoclips(key_frame_clips, method=\"compose\")\n",
    "\n",
    "# Save the summary video\n",
    "summary_video.write_videofile(\"summary_video.mp4\", codec=\"libx264\")\n",
    "\n",
    "# Display the summary video in the notebook (if using Jupyter)\n",
    "from IPython.display import Video\n",
    "Video(\"summary_video.mp4\")\n"
   ]
  },
  {
   "cell_type": "code",
   "execution_count": null,
   "id": "29703367",
   "metadata": {},
   "outputs": [],
   "source": []
  }
 ],
 "metadata": {
  "kernelspec": {
   "display_name": "Python 3 (ipykernel)",
   "language": "python",
   "name": "python3"
  },
  "language_info": {
   "codemirror_mode": {
    "name": "ipython",
    "version": 3
   },
   "file_extension": ".py",
   "mimetype": "text/x-python",
   "name": "python",
   "nbconvert_exporter": "python",
   "pygments_lexer": "ipython3",
   "version": "3.9.12"
  }
 },
 "nbformat": 4,
 "nbformat_minor": 5
}
